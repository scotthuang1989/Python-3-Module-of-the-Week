{
 "cells": [
  {
   "cell_type": "markdown",
   "metadata": {},
   "source": [
    "## In-memory Streams"
   ]
  },
  {
   "cell_type": "code",
   "execution_count": 1,
   "metadata": {},
   "outputs": [
    {
     "name": "stdout",
     "output_type": "stream",
     "text": [
      "This goes into the buffer. And so does this.\n",
      "\n",
      "Inital value for read buffer\n"
     ]
    }
   ],
   "source": [
    "\n",
    "output.write('This goes into the buffer. ')\n",
    "print('And so does this.', file=output)\n",
    "\n",
    "# Retrieve the value written\n",
    "print(output.getvalue())\n",
    "\n",
    "output.close()  # discard buffer memory\n",
    "\n",
    "# Initialize a read buffer\n",
    "input = io.StringIO('Inital value for read buffer')\n",
    "\n",
    "# Read from the buffer\n",
    "print(input.read())"
   ]
  },
  {
   "cell_type": "markdown",
   "metadata": {},
   "source": [
    "To work with raw bytes instead of Unicode text, use BytesIO."
   ]
  },
  {
   "cell_type": "code",
   "execution_count": 2,
   "metadata": {},
   "outputs": [
    {
     "name": "stdout",
     "output_type": "stream",
     "text": [
      "b'This goes into the buffer. \\xc3\\x81\\xc3\\x87\\xc3\\x8a'\n",
      "b'Inital value for read buffer'\n"
     ]
    }
   ],
   "source": [
    "import io\n",
    "\n",
    "# Writing to a buffer\n",
    "output = io.BytesIO()\n",
    "output.write('This goes into the buffer. '.encode('utf-8'))\n",
    "output.write('ÁÇÊ'.encode('utf-8'))\n",
    "\n",
    "# Retrieve the value written\n",
    "print(output.getvalue())\n",
    "\n",
    "output.close()  # discard buffer memory\n",
    "\n",
    "# Initialize a read buffer\n",
    "input = io.BytesIO(b'Inital value for read buffer')\n",
    "\n",
    "# Read from the buffer\n",
    "print(input.read())"
   ]
  },
  {
   "cell_type": "markdown",
   "metadata": {},
   "source": [
    "## Wrapping Byte Streams for Text Data"
   ]
  },
  {
   "cell_type": "markdown",
   "metadata": {},
   "source": [
    "Raw byte streams such as sockets can be wrapped with a layer to handle string encoding and decoding, making it easier to use them with text data. The TextIOWrapper class supports writing as well as reading. The write_through argument disables buffering, and flushes all data written to the wrapper through to the underlying buffer immediately."
   ]
  },
  {
   "cell_type": "code",
   "execution_count": 3,
   "metadata": {},
   "outputs": [
    {
     "name": "stdout",
     "output_type": "stream",
     "text": [
      "b'This goes into the buffer. \\xc3\\x81\\xc3\\x87\\xc3\\x8a'\n",
      "Inital value for read buffer with unicode characters ÁÇÊ\n"
     ]
    }
   ],
   "source": [
    "import io\n",
    "\n",
    "# Writing to a buffer\n",
    "output = io.BytesIO()\n",
    "wrapper = io.TextIOWrapper(\n",
    "    output,\n",
    "    encoding='utf-8',\n",
    "    write_through=True,\n",
    ")\n",
    "wrapper.write('This goes into the buffer. ')\n",
    "wrapper.write('ÁÇÊ')\n",
    "\n",
    "# Retrieve the value written\n",
    "print(output.getvalue())\n",
    "\n",
    "output.close()  # discard buffer memory\n",
    "\n",
    "# Initialize a read buffer\n",
    "input = io.BytesIO(\n",
    "    b'Inital value for read buffer with unicode characters ' +\n",
    "    'ÁÇÊ'.encode('utf-8')\n",
    ")\n",
    "wrapper = io.TextIOWrapper(input, encoding='utf-8')\n",
    "\n",
    "# Read from the buffer\n",
    "print(wrapper.read())"
   ]
  },
  {
   "cell_type": "code",
   "execution_count": null,
   "metadata": {},
   "outputs": [],
   "source": []
  }
 ],
 "metadata": {
  "kernelspec": {
   "display_name": "Python 3",
   "language": "python",
   "name": "python3"
  },
  "language_info": {
   "codemirror_mode": {
    "name": "ipython",
    "version": 3
   },
   "file_extension": ".py",
   "mimetype": "text/x-python",
   "name": "python",
   "nbconvert_exporter": "python",
   "pygments_lexer": "ipython3",
   "version": "3.6.5"
  }
 },
 "nbformat": 4,
 "nbformat_minor": 2
}
